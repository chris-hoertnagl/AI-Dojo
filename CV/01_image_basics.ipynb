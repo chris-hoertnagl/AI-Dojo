{
 "cells": [
  {
   "cell_type": "code",
   "execution_count": 1,
   "metadata": {},
   "outputs": [],
   "source": [
    "import cv2\n",
    "import numpy as np\n",
    "import matplotlib.pyplot as plt"
   ]
  },
  {
   "cell_type": "markdown",
   "metadata": {},
   "source": [
    "## Read an Image"
   ]
  },
  {
   "cell_type": "code",
   "execution_count": null,
   "metadata": {},
   "outputs": [],
   "source": [
    "img = cv2.imread(\"./resources/house_15_15.png\")\n",
    "plt.imshow(img)"
   ]
  },
  {
   "cell_type": "markdown",
   "metadata": {},
   "source": [
    "Image is displayed in RGB (Red, Green, Blue) but CV2 loads the image in BGR (Blue, Green, Red), which means the color channels are in the wrong order.\n",
    "\n",
    "Image is represented as a 3d array [y, x, colors] in our case (15, 15, 3).\n",
    "\n",
    "We can use CV2 to swap the colors or do it manually."
   ]
  },
  {
   "cell_type": "code",
   "execution_count": null,
   "metadata": {},
   "outputs": [],
   "source": [
    "# manual conversion\n",
    "img_manual = img.copy()[:,:, ::-1] # <-- Keep y and x as is and reverse the color channels. Meaning BGR --> RGB\n",
    "plt.imshow(img_manual)\n"
   ]
  },
  {
   "cell_type": "code",
   "execution_count": null,
   "metadata": {},
   "outputs": [],
   "source": [
    "# cv2 \n",
    "img_cv = cv2.cvtColor(img.copy(), cv2.COLOR_BGR2RGB)\n",
    "plt.imshow(img_cv)"
   ]
  },
  {
   "cell_type": "markdown",
   "metadata": {},
   "source": [
    "Extracting each Color Channel. Number Range from 0 - 255. Represents the intensity of the color\n",
    "The higher the strong the color."
   ]
  },
  {
   "cell_type": "code",
   "execution_count": 17,
   "metadata": {},
   "outputs": [],
   "source": [
    "blue = img[:, :, 0]\n",
    "green = img[:, :, 1]\n",
    "red = img[:, :, 2]\n"
   ]
  },
  {
   "cell_type": "code",
   "execution_count": null,
   "metadata": {},
   "outputs": [],
   "source": [
    "figure = plt.figure(figsize=(15, 15)) \n",
    "\n",
    "# Function to annotate heatmap with larger text\n",
    "def annotate_heatmap(data, ax, fontsize=12):\n",
    "    for i in range(data.shape[0]):\n",
    "        for j in range(data.shape[1]):\n",
    "            ax.text(j, i, f'{data[i, j]}', ha='center', va='center', color='black', fontsize=fontsize)\n",
    "\n",
    "# Plot Blue channel with value range from 0 to 255\n",
    "ax1 = figure.add_subplot(2, 2, 1)\n",
    "im1 = ax1.imshow(blue, cmap=\"hot\", vmin=0, vmax=255)\n",
    "plt.colorbar(im1, ax=ax1)\n",
    "plt.title(\"Blue\")\n",
    "annotate_heatmap(blue, ax1, fontsize=14)\n",
    "\n",
    "# Plot Green channel with value range from 0 to 255\n",
    "ax2 = figure.add_subplot(2, 2, 2)\n",
    "im2 = ax2.imshow(green, cmap=\"hot\", vmin=0, vmax=255)\n",
    "plt.colorbar(im2, ax=ax2)\n",
    "plt.title(\"Green\")\n",
    "annotate_heatmap(green, ax2, fontsize=14)\n",
    "\n",
    "# Plot Red channel with value range from 0 to 255\n",
    "ax3 = figure.add_subplot(2, 2, 3)\n",
    "im3 = ax3.imshow(red, cmap=\"hot\", vmin=0, vmax=255)\n",
    "plt.colorbar(im3, ax=ax3)\n",
    "plt.title(\"Red\")\n",
    "annotate_heatmap(red, ax3, fontsize=14)\n",
    "\n",
    "# Plot Original image\n",
    "ax4 = figure.add_subplot(2, 2, 4)\n",
    "ax4.imshow(img_cv)\n",
    "plt.title(\"Original\")\n",
    "\n",
    "plt.tight_layout()\n",
    "plt.show()"
   ]
  },
  {
   "cell_type": "markdown",
   "metadata": {},
   "source": [
    "Grabbing pixel from the  image. E.g. y = 6 and x = 6 "
   ]
  },
  {
   "cell_type": "code",
   "execution_count": 48,
   "metadata": {},
   "outputs": [],
   "source": [
    "red_6_6 = red[6:7, 6:7] # Keeping the array structure\n",
    "blue_6_6 = blue[6:7, 6:7]\n",
    "green_6_6 = green[6:7, 6:7]"
   ]
  },
  {
   "cell_type": "code",
   "execution_count": null,
   "metadata": {},
   "outputs": [],
   "source": [
    "red_6_6.shape"
   ]
  },
  {
   "cell_type": "markdown",
   "metadata": {},
   "source": [
    "Building a fully colored pixel"
   ]
  },
  {
   "cell_type": "code",
   "execution_count": null,
   "metadata": {},
   "outputs": [],
   "source": [
    "full_pixel = np.array([red_6_6, green_6_6, blue_6_6])\n",
    "full_pixel.shape # <-- Wrong order of dimensions expected y, x, color but got color, y, x "
   ]
  },
  {
   "cell_type": "code",
   "execution_count": 75,
   "metadata": {},
   "outputs": [],
   "source": [
    "rearanged_pixel = full_pixel.transpose((2,1,0))"
   ]
  },
  {
   "cell_type": "code",
   "execution_count": null,
   "metadata": {},
   "outputs": [],
   "source": [
    "plt.imshow(rearanged_pixel) # <-- Blue color of the window"
   ]
  },
  {
   "cell_type": "markdown",
   "metadata": {},
   "source": [
    "Draw a yellow square in the upper right corner 4x4"
   ]
  },
  {
   "cell_type": "code",
   "execution_count": null,
   "metadata": {},
   "outputs": [],
   "source": [
    "draw_image = img_cv.copy()\n",
    "# Update red\n",
    "draw_image[0:4, -4:, 0] = 255\n",
    "# Update green\n",
    "draw_image[0:4, -4:, 1] = 255\n",
    "# Update blue\n",
    "draw_image[0:4, -4:, 2] = 0\n",
    "\n",
    "plt.imshow(draw_image)"
   ]
  },
  {
   "cell_type": "code",
   "execution_count": null,
   "metadata": {},
   "outputs": [],
   "source": []
  }
 ],
 "metadata": {
  "kernelspec": {
   "display_name": ".venv",
   "language": "python",
   "name": "python3"
  },
  "language_info": {
   "codemirror_mode": {
    "name": "ipython",
    "version": 3
   },
   "file_extension": ".py",
   "mimetype": "text/x-python",
   "name": "python",
   "nbconvert_exporter": "python",
   "pygments_lexer": "ipython3",
   "version": "3.11.9"
  }
 },
 "nbformat": 4,
 "nbformat_minor": 2
}
